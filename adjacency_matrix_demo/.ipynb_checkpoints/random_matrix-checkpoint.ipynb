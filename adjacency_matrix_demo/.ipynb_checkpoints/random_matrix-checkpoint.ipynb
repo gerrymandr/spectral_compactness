{
 "cells": [
  {
   "cell_type": "code",
   "execution_count": 1,
   "metadata": {},
   "outputs": [],
   "source": [
    "import numpy as np\n",
    "import scipy.linalg\n",
    "import random\n",
    "import networkx as nx\n",
    "import matplotlib.pyplot as plt\n",
    "import planarity\n",
    "import geopandas as gpd"
   ]
  },
  {
   "cell_type": "code",
   "execution_count": 2,
   "metadata": {},
   "outputs": [],
   "source": [
    "def rand_adj_mat(size=2):\n",
    "    m = np.zeros([size,size])\n",
    "    for i in range(size):\n",
    "        for j in range(i):\n",
    "            b = random.randint(0,1)\n",
    "            m[i,j] = b\n",
    "            m[j,i] = b\n",
    "    return m\n",
    "\n",
    "\n",
    "def rand_conn_adj_mat(size=2):\n",
    "    x  = 0\n",
    "    while x == 0:\n",
    "        m = rand_adj_mat(size)\n",
    "        x = np.prod(scipy.linalg.eigvals(m)[0])\n",
    "    return m\n",
    "\n",
    "def rand_conn_er(size,p):\n",
    "    c = False\n",
    "    while not c:    \n",
    "        m = nx.fast_gnp_random_graph(size,p)\n",
    "        c = nx.is_connected(m)\n",
    "    return nx.adjacency_matrix(m)\n",
    "\n",
    "def rand_conn_nm(n,e):\n",
    "    c = False\n",
    "    while not c:\n",
    "        m = nx.gnm_random_graph(n,e)\n",
    "        c = nx.is_connected(m)\n",
    "    print(planarity.is_planar(m))\n",
    "    return nx.adjacency_matrix(m)"
   ]
  },
  {
   "cell_type": "code",
   "execution_count": null,
   "metadata": {},
   "outputs": [],
   "source": [
    "\n"
   ]
  },
  {
   "cell_type": "code",
   "execution_count": 10,
   "metadata": {},
   "outputs": [
    {
     "name": "stdout",
     "output_type": "stream",
     "text": [
      "145000\n"
     ]
    },
    {
     "data": {
      "text/plain": [
       "(array([2.45797752e-02, 0.00000000e+00, 0.00000000e+00, 0.00000000e+00,\n",
       "        0.00000000e+00, 0.00000000e+00, 2.45797752e-02, 1.47478651e-01,\n",
       "        0.00000000e+00, 0.00000000e+00, 3.44116852e-01, 3.68696627e-01,\n",
       "        2.45797752e-02, 5.65334828e-01, 1.86806291e+00, 7.12813479e-01,\n",
       "        1.10608988e+00, 5.33381121e+00, 5.11259323e+00, 4.62099773e+00,\n",
       "        9.97938871e+00, 1.51903010e+01, 1.26585842e+01, 2.12615055e+01,\n",
       "        2.84387998e+01, 3.00364852e+01, 3.36497122e+01, 4.07286874e+01,\n",
       "        4.44402335e+01, 4.70211099e+01, 4.91103908e+01, 5.35593301e+01,\n",
       "        5.54765525e+01, 5.80574289e+01, 6.16706559e+01, 6.23097300e+01,\n",
       "        6.39811547e+01, 6.45956491e+01, 6.78155996e+01, 6.81105569e+01,\n",
       "        7.25103367e+01, 6.94870244e+01, 7.32723097e+01, 7.19204221e+01,\n",
       "        7.46979367e+01, 7.51649524e+01, 7.53370108e+01, 7.58777659e+01,\n",
       "        7.45258783e+01, 7.59760850e+01, 7.80162063e+01, 7.57548670e+01,\n",
       "        7.53861704e+01, 7.72050737e+01, 7.50912131e+01, 7.71559142e+01,\n",
       "        7.60498243e+01, 7.49191547e+01, 7.38376446e+01, 7.43783996e+01,\n",
       "        7.24857569e+01, 7.23382783e+01, 6.89216895e+01, 7.01998378e+01,\n",
       "        6.80122378e+01, 6.71027862e+01, 6.52101435e+01, 6.42023727e+01,\n",
       "        6.18918738e+01, 5.92372581e+01, 5.57223503e+01, 5.44196222e+01,\n",
       "        5.28219368e+01, 4.72669076e+01, 4.55463234e+01, 4.16135593e+01,\n",
       "        3.68205032e+01, 3.14866920e+01, 2.87583369e+01, 2.53417482e+01,\n",
       "        1.64930291e+01, 1.46249662e+01, 1.41087909e+01, 7.12813479e+00,\n",
       "        3.34284942e+00, 6.78401794e+00, 3.07247189e+00, 6.39074154e-01,\n",
       "        1.27814831e+00, 1.42562696e+00, 1.72058426e-01, 0.00000000e+00,\n",
       "        4.42435953e-01, 4.91595503e-02, 0.00000000e+00, 0.00000000e+00,\n",
       "        1.72058426e-01, 0.00000000e+00, 0.00000000e+00, 2.45797752e-02]),\n",
       " array([0.00213499, 0.00241556, 0.00269614, 0.00297672, 0.0032573 ,\n",
       "        0.00353788, 0.00381846, 0.00409903, 0.00437961, 0.00466019,\n",
       "        0.00494077, 0.00522135, 0.00550193, 0.0057825 , 0.00606308,\n",
       "        0.00634366, 0.00662424, 0.00690482, 0.0071854 , 0.00746597,\n",
       "        0.00774655, 0.00802713, 0.00830771, 0.00858829, 0.00886887,\n",
       "        0.00914944, 0.00943002, 0.0097106 , 0.00999118, 0.01027176,\n",
       "        0.01055234, 0.01083291, 0.01111349, 0.01139407, 0.01167465,\n",
       "        0.01195523, 0.01223581, 0.01251638, 0.01279696, 0.01307754,\n",
       "        0.01335812, 0.0136387 , 0.01391928, 0.01419985, 0.01448043,\n",
       "        0.01476101, 0.01504159, 0.01532217, 0.01560275, 0.01588332,\n",
       "        0.0161639 , 0.01644448, 0.01672506, 0.01700564, 0.01728621,\n",
       "        0.01756679, 0.01784737, 0.01812795, 0.01840853, 0.01868911,\n",
       "        0.01896968, 0.01925026, 0.01953084, 0.01981142, 0.020092  ,\n",
       "        0.02037258, 0.02065315, 0.02093373, 0.02121431, 0.02149489,\n",
       "        0.02177547, 0.02205605, 0.02233662, 0.0226172 , 0.02289778,\n",
       "        0.02317836, 0.02345894, 0.02373952, 0.02402009, 0.02430067,\n",
       "        0.02458125, 0.02486183, 0.02514241, 0.02542299, 0.02570356,\n",
       "        0.02598414, 0.02626472, 0.0265453 , 0.02682588, 0.02710646,\n",
       "        0.02738703, 0.02766761, 0.02794819, 0.02822877, 0.02850935,\n",
       "        0.02878993, 0.0290705 , 0.02935108, 0.02963166, 0.02991224,\n",
       "        0.03019282]),\n",
       " <a list of 100 Patch objects>)"
      ]
     },
     "execution_count": 10,
     "metadata": {},
     "output_type": "execute_result"
    },
    {
     "data": {
      "image/png": "[encoded data removed]",
      "text/plain": [
       "<Figure size 432x288 with 1 Axes>"
      ]
     },
     "metadata": {},
     "output_type": "display_data"
    }
   ],
   "source": [
    "\n",
    "\n",
    "h = []\n",
    "for i in range(5000):\n",
    "    adj = rand_conn_adj_mat(30)\n",
    "    deg = np.diag(adj.sum(axis=0))\n",
    "    lap = deg - adj\n",
    "    evals = np.real(scipy.linalg.eigvals(lap).tolist())\n",
    "    evals = [x for x in evals if x>0]\n",
    "    deg_list = adj.sum(axis=0).tolist()\n",
    "    #h += deg_list\n",
    "    for l in evals: \n",
    "        if l>.000001: h.append(l/(30))\n",
    "print(len(h))\n",
    "\n",
    "plt.hist(h,density=True,bins = 100)\n",
    "#plt.hist(h,density=True,bins=30, range=[0,15])\n"
   ]
  },
  {
   "cell_type": "code",
   "execution_count": 4,
   "metadata": {},
   "outputs": [
    {
     "ename": "NameError",
     "evalue": "name 'd_e' is not defined",
     "output_type": "error",
     "traceback": [
      "\u001b[0;31m---------------------------------------------------------------------------\u001b[0m",
      "\u001b[0;31mNameError\u001b[0m                                 Traceback (most recent call last)",
      "\u001b[0;32m<ipython-input-4-e733a9e4ce03>\u001b[0m in \u001b[0;36m<module>\u001b[0;34m()\u001b[0m\n\u001b[1;32m      1\u001b[0m \u001b[0mplt\u001b[0m\u001b[0;34m.\u001b[0m\u001b[0mhist\u001b[0m\u001b[0;34m(\u001b[0m\u001b[0mh\u001b[0m\u001b[0;34m,\u001b[0m\u001b[0mdensity\u001b[0m\u001b[0;34m=\u001b[0m\u001b[0;32mTrue\u001b[0m\u001b[0;34m,\u001b[0m\u001b[0mbins\u001b[0m\u001b[0;34m=\u001b[0m\u001b[0;36m30\u001b[0m\u001b[0;34m,\u001b[0m \u001b[0mrange\u001b[0m\u001b[0;34m=\u001b[0m\u001b[0;34m[\u001b[0m\u001b[0;36m0\u001b[0m\u001b[0;34m,\u001b[0m\u001b[0;36m15\u001b[0m\u001b[0;34m]\u001b[0m\u001b[0;34m)\u001b[0m\u001b[0;34m\u001b[0m\u001b[0m\n\u001b[0;32m----> 2\u001b[0;31m \u001b[0mrandom\u001b[0m\u001b[0;34m.\u001b[0m\u001b[0mshuffle\u001b[0m\u001b[0;34m(\u001b[0m\u001b[0md_e\u001b[0m\u001b[0;34m)\u001b[0m\u001b[0;34m\u001b[0m\u001b[0m\n\u001b[0m\u001b[1;32m      3\u001b[0m \u001b[0;34m\u001b[0m\u001b[0m\n\u001b[1;32m      4\u001b[0m \u001b[0mplt\u001b[0m\u001b[0;34m.\u001b[0m\u001b[0maxvline\u001b[0m\u001b[0;34m(\u001b[0m\u001b[0mmin\u001b[0m\u001b[0;34m(\u001b[0m\u001b[0md_e\u001b[0m\u001b[0;34m)\u001b[0m\u001b[0;34m,\u001b[0m \u001b[0mcolor\u001b[0m\u001b[0;34m=\u001b[0m\u001b[0;34m'k'\u001b[0m\u001b[0;34m,\u001b[0m \u001b[0mlinestyle\u001b[0m\u001b[0;34m=\u001b[0m\u001b[0;34m'dashed'\u001b[0m\u001b[0;34m,\u001b[0m \u001b[0mlinewidth\u001b[0m\u001b[0;34m=\u001b[0m\u001b[0;36m1\u001b[0m\u001b[0;34m)\u001b[0m\u001b[0;34m\u001b[0m\u001b[0m\n\u001b[1;32m      5\u001b[0m \u001b[0mplt\u001b[0m\u001b[0;34m.\u001b[0m\u001b[0maxvline\u001b[0m\u001b[0;34m(\u001b[0m\u001b[0mmax\u001b[0m\u001b[0;34m(\u001b[0m\u001b[0md_e\u001b[0m\u001b[0;34m)\u001b[0m\u001b[0;34m,\u001b[0m \u001b[0mcolor\u001b[0m\u001b[0;34m=\u001b[0m\u001b[0;34m'k'\u001b[0m\u001b[0;34m,\u001b[0m \u001b[0mlinestyle\u001b[0m\u001b[0;34m=\u001b[0m\u001b[0;34m'dashed'\u001b[0m\u001b[0;34m,\u001b[0m \u001b[0mlinewidth\u001b[0m\u001b[0;34m=\u001b[0m\u001b[0;36m1\u001b[0m\u001b[0;34m)\u001b[0m\u001b[0;34m\u001b[0m\u001b[0m\n",
      "\u001b[0;31mNameError\u001b[0m: name 'd_e' is not defined"
     ]
    },
    {
     "data": {
      "image/png": "[encoded data removed]",
      "text/plain": [
       "<Figure size 432x288 with 1 Axes>"
      ]
     },
     "metadata": {},
     "output_type": "display_data"
    }
   ],
   "source": [
    "plt.hist(h,density=True,bins=30, range=[0,15])\n",
    "random.shuffle(d_e)\n",
    "\n",
    "plt.axvline(min(d_e), color='k', linestyle='dashed', linewidth=1)\n",
    "plt.axvline(max(d_e), color='k', linestyle='dashed', linewidth=1)\n",
    "\n",
    "\n",
    "\n",
    "random.shuffle(d_e)\n",
    "\n",
    "plt.axvline(min(d_e), color='k', linestyle='dashed', linewidth=1)\n",
    "plt.axvline(max(d_e), color='k', linestyle='dashed', linewidth=1)"
   ]
  },
  {
   "cell_type": "code",
   "execution_count": 13,
   "metadata": {},
   "outputs": [],
   "source": [
    "new_vals = []\n",
    "maxes = {}\n",
    "mins = {}\n",
    "means = {}\n",
    "medians = {}\n",
    "df_cd = gpd.read_file('cd_us.shp')\n",
    "state_no='all'\n",
    "# (somewhat unnecessarily) loop over all rows in the DataFrame\n",
    "for ind, row in df_cd.iterrows():\n",
    "\n",
    "    # grab the identifying information\n",
    "    fcode = row['STATECD']\n",
    "    st = row['STATEFP']\n",
    "    fn = fcode[0:2]+'_'+fcode\n",
    "\n",
    "    # if this row is something we need to compute:\n",
    "\n",
    "    if st==state_no or state_no=='all':\n",
    "    # read in the corresponding district's adjacency matrix\n",
    "        # [see README in the adj_mats folder for more info]\n",
    "        adj = np.loadtxt('adj_mats/'+fn+'_dist.txt',\n",
    "                         delimiter=',')\n",
    "\n",
    "        # make sure it's an integer matrix\n",
    "        adj = adj.astype(int)\n",
    "\n",
    "        g = nx.from_numpy_matrix(adj)\n",
    "        # you can build a laplacian matrix\n",
    "        deg = np.diag(adj.sum(axis=0))\n",
    "        lap = deg - adj\n",
    "        evals = np.real(scipy.linalg.eigvals(lap)).tolist()\n",
    "        evals = [x for x in evals if x>0]\n",
    "        new_vals += adj.sum(axis=0).tolist()\n",
    "        maxes[fcode] = np.max(evals)\n",
    "        mins[fcode] = np.min(evals)\n",
    "        means[fcode] = np.mean(evals)\n",
    "        medians[fcode] = np.median(evals)\n",
    "        \n",
    "        "
   ]
  },
  {
   "cell_type": "code",
   "execution_count": 10,
   "metadata": {},
   "outputs": [
    {
     "ename": "NameError",
     "evalue": "name 'new_vals' is not defined",
     "output_type": "error",
     "traceback": [
      "\u001b[0;31m---------------------------------------------------------------------------\u001b[0m",
      "\u001b[0;31mNameError\u001b[0m                                 Traceback (most recent call last)",
      "\u001b[0;32m<ipython-input-10-32ea1de8e764>\u001b[0m in \u001b[0;36m<module>\u001b[0;34m()\u001b[0m\n\u001b[1;32m     22\u001b[0m \u001b[0;31m#for c in d_t[:20]: plt.axvline(c, color='r', linestyle='dashed', linewidth=1)\u001b[0m\u001b[0;34m\u001b[0m\u001b[0;34m\u001b[0m\u001b[0m\n\u001b[1;32m     23\u001b[0m \u001b[0mplt\u001b[0m\u001b[0;34m.\u001b[0m\u001b[0mfigure\u001b[0m\u001b[0;34m(\u001b[0m\u001b[0mfigsize\u001b[0m\u001b[0;34m=\u001b[0m\u001b[0;34m(\u001b[0m\u001b[0;36m12\u001b[0m\u001b[0;34m,\u001b[0m\u001b[0;36m12\u001b[0m\u001b[0;34m)\u001b[0m\u001b[0;34m)\u001b[0m\u001b[0;34m\u001b[0m\u001b[0m\n\u001b[0;32m---> 24\u001b[0;31m \u001b[0mplt\u001b[0m\u001b[0;34m.\u001b[0m\u001b[0mhist\u001b[0m\u001b[0;34m(\u001b[0m\u001b[0mnew_vals\u001b[0m\u001b[0;34m,\u001b[0m \u001b[0mcolor\u001b[0m \u001b[0;34m=\u001b[0m \u001b[0;34m'green'\u001b[0m\u001b[0;34m,\u001b[0m \u001b[0mdensity\u001b[0m \u001b[0;34m=\u001b[0m \u001b[0;32mTrue\u001b[0m\u001b[0;34m,\u001b[0m \u001b[0mbins\u001b[0m\u001b[0;34m=\u001b[0m\u001b[0;36m100\u001b[0m\u001b[0;34m,\u001b[0m\u001b[0mrange\u001b[0m\u001b[0;34m=\u001b[0m\u001b[0;34m[\u001b[0m\u001b[0;36m0\u001b[0m\u001b[0;34m,\u001b[0m\u001b[0;36m25\u001b[0m\u001b[0;34m]\u001b[0m\u001b[0;34m)\u001b[0m\u001b[0;34m\u001b[0m\u001b[0m\n\u001b[0m\u001b[1;32m     25\u001b[0m \u001b[0;31m#plt.hist(d_e, bins=10, alpha=.3, density=True, color='green',range=[0,25])\u001b[0m\u001b[0;34m\u001b[0m\u001b[0;34m\u001b[0m\u001b[0m\n\u001b[1;32m     26\u001b[0m \u001b[0;31m#plt.hist(d_t, bins=10, alpha = .3, density= True, color='red',range=[0,25])\u001b[0m\u001b[0;34m\u001b[0m\u001b[0;34m\u001b[0m\u001b[0m\n",
      "\u001b[0;31mNameError\u001b[0m: name 'new_vals' is not defined"
     ]
    },
    {
     "data": {
      "text/plain": [
       "<Figure size 864x864 with 0 Axes>"
      ]
     },
     "metadata": {},
     "output_type": "display_data"
    }
   ],
   "source": [
    "\n",
    "dist = np.loadtxt('adj_mats/17_1715_dist.txt',delimiter=',')\n",
    "lap_d  = np.diag(dist.sum(axis=0)) - dist\n",
    "d_e = np.real(scipy.linalg.eigvals(lap_d))\n",
    "\n",
    "dist = np.loadtxt('adj_mats/17_1704_dist.txt',delimiter=',')\n",
    "lap_d  = np.diag(dist.sum(axis=0)) - dist\n",
    "d_t = np.real(scipy.linalg.eigvals(lap_d))\n",
    "\n",
    "\n",
    "d_e = [x for x in d_e if x>0]\n",
    "d_t = [x for x in d_t if x>0]\n",
    "\n",
    "\n",
    "\n",
    "#plt.hist(new_vals, density=True, bins=100, range = [0,30])\n",
    "random.shuffle(d_e)\n",
    "random.shuffle(d_t)\n",
    "\n",
    "\n",
    "#for c in d_e[:20]: plt.axvline(c, color='k', linestyle='dashed', linewidth=1)\n",
    "#for c in d_t[:20]: plt.axvline(c, color='r', linestyle='dashed', linewidth=1)\n",
    "plt.figure(figsize=(12,12))\n",
    "plt.hist(new_vals, color = 'green', density = True, bins=100,range=[0,25])\n",
    "#plt.hist(d_e, bins=10, alpha=.3, density=True, color='green',range=[0,25])\n",
    "#plt.hist(d_t, bins=10, alpha = .3, density= True, color='red',range=[0,25])\n",
    "#plt.hist(new_vals, bins=20, alpha=.3, density=True, color='blue', range=[0,25])\n",
    "\n",
    "#plt.hist(maxes.values(),bins=200, color='blue', alpha = .5)\n",
    "#plt.hist([x for x in mins.values()],bins=200, color='red', alpha = .5)\n"
   ]
  },
  {
   "cell_type": "code",
   "execution_count": null,
   "metadata": {},
   "outputs": [],
   "source": []
  }
 ],
 "metadata": {
  "kernelspec": {
   "display_name": "Python 3",
   "language": "python",
   "name": "python3"
  },
  "language_info": {
   "codemirror_mode": {
    "name": "ipython",
    "version": 3
   },
   "file_extension": ".py",
   "mimetype": "text/x-python",
   "name": "python",
   "nbconvert_exporter": "python",
   "pygments_lexer": "ipython3",
   "version": "3.6.5"
  }
 },
 "nbformat": 4,
 "nbformat_minor": 2
}
